{
 "cells": [
  {
   "cell_type": "markdown",
   "metadata": {},
   "source": [
    "7.6 Body Mass Index\n",
    "Write a program that calculates and displays a person’s body mass index (BMI). The BMI is often\n",
    "used to determine whether a person is overweight or underweight for his or her height. A person’s\n",
    "BMI is calculated with the following formula:\n",
    "**\n",
    "BMI = weight * 703 / height^2\n",
    "**\n",
    "where weight is measured in pounds and height is measured in inches. The program should ask the\n",
    "user to enter his or her weight and height and then display the user’s BMI. The program should\n",
    "also display a message indicating whether the person has optimal weight, is underweight, or is\n",
    "overweight. A person’s weight is considered to be optimal if his or her BMI is between 18.5 and\n",
    "25. If the BMI is less than 18.5, the person is considered to be underweight. If the BMI value is\n",
    "greater than 25, the person is considered to be overweight."
   ]
  },
  {
   "cell_type": "code",
   "execution_count": 1,
   "metadata": {},
   "outputs": [
    {
     "name": "stdout",
     "output_type": "stream",
     "text": [
      "Enter your weight: 47\n",
      "Enter your height: 156\n",
      "Your bmi is :  1.3577005259697568\n",
      "You are underweight\n"
     ]
    }
   ],
   "source": [
    "weight=float(input(\"Enter your weight: \"))\n",
    "height=float(input(\"Enter your height: \"))\n",
    "bmi=weight*703/(height*height)\n",
    "if(bmi>=18.5 and bmi<=25):\n",
    "    print(\"Your bmi is : \",bmi)\n",
    "    print(\"You have an optimal weight\")\n",
    "elif(bmi<=18.5):\n",
    "    print(\"Your bmi is : \",bmi)\n",
    "    print(\"You are underweight\")\n",
    "elif(bmi>25):\n",
    "    print(\"Your bmi is : \",bmi)\n",
    "    print(\"You are overweight\")"
   ]
  },
  {
   "cell_type": "code",
   "execution_count": null,
   "metadata": {},
   "outputs": [],
   "source": []
  }
 ],
 "metadata": {
  "kernelspec": {
   "display_name": "Python 3",
   "language": "python",
   "name": "python3"
  },
  "language_info": {
   "codemirror_mode": {
    "name": "ipython",
    "version": 3
   },
   "file_extension": ".py",
   "mimetype": "text/x-python",
   "name": "python",
   "nbconvert_exporter": "python",
   "pygments_lexer": "ipython3",
   "version": "3.7.6"
  }
 },
 "nbformat": 4,
 "nbformat_minor": 4
}
