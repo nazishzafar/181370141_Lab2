{
 "cells": [
  {
   "cell_type": "markdown",
   "metadata": {},
   "source": [
    "Write a program that predicts the approximate size of a population of organisms. The application\n",
    "should allow the user to enter the starting number of organisms, the average daily population\n",
    "increase (as a percentage), and the number of days the organisms will be left to multiply."
   ]
  },
  {
   "cell_type": "code",
   "execution_count": 3,
   "metadata": {},
   "outputs": [
    {
     "name": "stdout",
     "output_type": "stream",
     "text": [
      "Enter starting number of organisms: 2\n",
      "Enter average daily increase: 30\n",
      "Number of days to multiplay: 10\n",
      "\n",
      "\n",
      "\n",
      "Days ---------------------------- population \n",
      "\n",
      "1 ------------------------------- 2\n",
      "2 -------------------------------2.60\n",
      "3 -------------------------------3.38\n",
      "4 -------------------------------4.39\n",
      "5 -------------------------------5.71\n",
      "6 -------------------------------7.43\n",
      "7 -------------------------------9.65\n",
      "8 -------------------------------12.55\n",
      "9 -------------------------------16.31\n",
      "10 -------------------------------21.21\n"
     ]
    }
   ],
   "source": [
    "start=int(input(\"Enter starting number of organisms: \"))\n",
    "average=int(input(\"Enter average daily increase: \"))\n",
    "number=int(input(\"Number of days to multiplay: \"))\n",
    "avg=1+(average/100)\n",
    "population=start\n",
    "print(\"\\n\\n\")\n",
    "print(\"Days -------------------------- population \\n\")\n",
    "print(1,\"-------------------------------\",population)\n",
    "for i in range(start,number+1):\n",
    "    population=population*avg\n",
    "    print(i,\"-------------------------------{:.2f}\".format(population))"
   ]
  },
  {
   "cell_type": "code",
   "execution_count": null,
   "metadata": {},
   "outputs": [],
   "source": []
  }
 ],
 "metadata": {
  "kernelspec": {
   "display_name": "Python 3",
   "language": "python",
   "name": "python3"
  },
  "language_info": {
   "codemirror_mode": {
    "name": "ipython",
    "version": 3
   },
   "file_extension": ".py",
   "mimetype": "text/x-python",
   "name": "python",
   "nbconvert_exporter": "python",
   "pygments_lexer": "ipython3",
   "version": "3.7.6"
  }
 },
 "nbformat": 4,
 "nbformat_minor": 4
}
