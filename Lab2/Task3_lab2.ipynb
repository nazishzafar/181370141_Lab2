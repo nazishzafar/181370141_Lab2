{
 "cells": [
  {
   "cell_type": "markdown",
   "metadata": {},
   "source": [
    "Drivers are concerned with the mileage obtained by their automobiles. One driver has kept track\n",
    "of several tankfuls of gasoline by recording miles driven and gallons used for each tankful. Develop\n",
    "a sentinel-controlled-repetition script that prompts the user to input the miles driven and gallons\n",
    "used for each tankful. The script should calculate and display the miles per gallon obtained for\n",
    "each tankful. After processing all input information, the script should calculate and display the\n",
    "combined miles per gallon obtained for all tankfuls (that is, total miles driven divided by total\n",
    "gallons used)."
   ]
  },
  {
   "cell_type": "code",
   "execution_count": 12,
   "metadata": {},
   "outputs": [
    {
     "name": "stdout",
     "output_type": "stream",
     "text": [
      "Enter gallons used for each tankful: 132\n",
      "Enter the miles driven: 4\n",
      "Miles/gallons =  0.030303030303030304\n",
      "Enter the miles driven: 5\n",
      "Enter gallons used for each tankful: 45\n",
      "Miles/gallons =  0.1111111111111111\n",
      "Enter the miles driven: 34\n",
      "Enter gallons used for each tankful: 5\n",
      "Miles/gallons =  6.8\n",
      "Enter the miles driven: 42\n",
      "Enter gallons used for each tankful: -1\n",
      "Overall average miles/gallons:  2.3138047138047138\n"
     ]
    }
   ],
   "source": [
    "gallons=float(input(\"Enter gallons used for each tankful: \"))\n",
    "miles=float(input(\"Enter the miles driven: \"))\n",
    "count=0\n",
    "total=0\n",
    "while(gallons!=-1):\n",
    "    miles_per=miles/gallons\n",
    "    print(\"Miles/gallons = \",miles_per)\n",
    "    miles=float(input(\"Enter the miles driven: \"))\n",
    "    gallons=float(input(\"Enter gallons used for each tankful: (-1 to exit) \"))\n",
    "    count=count+1\n",
    "    total=total+miles_per\n",
    "print(\"Overall average miles/gallons: \",total/count)\n",
    "    "
   ]
  },
  {
   "cell_type": "code",
   "execution_count": null,
   "metadata": {},
   "outputs": [],
   "source": []
  },
  {
   "cell_type": "code",
   "execution_count": null,
   "metadata": {},
   "outputs": [],
   "source": []
  }
 ],
 "metadata": {
  "kernelspec": {
   "display_name": "Python 3",
   "language": "python",
   "name": "python3"
  },
  "language_info": {
   "codemirror_mode": {
    "name": "ipython",
    "version": 3
   },
   "file_extension": ".py",
   "mimetype": "text/x-python",
   "name": "python",
   "nbconvert_exporter": "python",
   "pygments_lexer": "ipython3",
   "version": "3.7.6"
  }
 },
 "nbformat": 4,
 "nbformat_minor": 4
}
