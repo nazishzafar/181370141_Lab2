{
 "cells": [
  {
   "cell_type": "markdown",
   "metadata": {},
   "source": [
    "8.3 Guess the Number\n",
    "Write a script that plays “guess the number.” Choose the number to be guessed by selecting a\n",
    "random integer in the range 1 to 1000. Do not reveal this number to the user. Display the\n",
    "prompt “Guess my number between 1 and 1000 with the fewest guesses:”. The player\n",
    "inputs a first guess. If the guess is incorrect, display “Too high. Try again.” or “Too low. Try\n",
    "again.” as appropriate to help the player “zero in” on the correct answer, then prompt the user\n",
    "for the next guess. When the user enters the correct answer, display “Congratulations. You\n",
    "guessed the number!”, and allow the user to choose whether to play again."
   ]
  },
  {
   "cell_type": "code",
   "execution_count": null,
   "metadata": {},
   "outputs": [
    {
     "name": "stdout",
     "output_type": "stream",
     "text": [
      "Guess any number between 1-1000 : 34\n",
      "Too Low. Try again!\n",
      "Guess again any number between 1-1000 : 3\n",
      "Guess again any number between 1-1000 : 35\n",
      "Guess again any number between 1-1000 : 6\n",
      "Guess again any number between 1-1000 : 7\n",
      "Guess again any number between 1-1000 : 3\n",
      "Guess again any number between 1-1000 : 4677\n"
     ]
    }
   ],
   "source": [
    "import random\n",
    "guess_num=int(input(\"Guess any number between 1-1000 : \"))\n",
    "guess=random.randint(1,1001)\n",
    "if(guess_num==guess):\n",
    "    print(\"zero in\")\n",
    "elif(guess_num>guess):\n",
    "    print(\"TOO Hight. Try again!\")\n",
    "elif(guess_num<guess):\n",
    "    print(\"Too Low. Try again!\")\n",
    "    while(guess_num!=guess):\n",
    "         guess_num=int(input(\"Guess again any number between 1-1000 : \"))\n",
    "\n",
    "print(\"Congratulatoins. you guessed the number\")\n",
    "   \n",
    "\n",
    "    \n",
    "\n",
    "    \n",
    "    \n"
   ]
  },
  {
   "cell_type": "code",
   "execution_count": null,
   "metadata": {},
   "outputs": [],
   "source": []
  }
 ],
 "metadata": {
  "kernelspec": {
   "display_name": "Python 3",
   "language": "python",
   "name": "python3"
  },
  "language_info": {
   "codemirror_mode": {
    "name": "ipython",
    "version": 3
   },
   "file_extension": ".py",
   "mimetype": "text/x-python",
   "name": "python",
   "nbconvert_exporter": "python",
   "pygments_lexer": "ipython3",
   "version": "3.7.6"
  }
 },
 "nbformat": 4,
 "nbformat_minor": 4
}
