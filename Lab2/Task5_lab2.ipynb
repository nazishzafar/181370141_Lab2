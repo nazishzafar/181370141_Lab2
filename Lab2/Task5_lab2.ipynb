{
 "cells": [
  {
   "cell_type": "markdown",
   "metadata": {},
   "source": [
    "7.5 Shipping Charges\n",
    "The Fast Freight Shipping Company charges the following rates:\n",
    "Weight of Package Rate per Pound (Dollar)\n",
    "2 pounds or less 1.50\n",
    "Over 2 pounds but not more than 6 pounds 3.00\n",
    "Over 6 pounds but not more than 10 pounds 4.00\n",
    "Over 10 pounds 4.75\n",
    "Write a program that asks the user to enter the weight of a package and then displays the shipping\n",
    "charges."
   ]
  },
  {
   "cell_type": "code",
   "execution_count": 2,
   "metadata": {},
   "outputs": [
    {
     "name": "stdout",
     "output_type": "stream",
     "text": [
      "Enter weight of the packages: 34\n",
      "Your shippig charges is:  4.75\n"
     ]
    }
   ],
   "source": [
    "weight=int(input(\"Enter weight of the packages: \"))\n",
    "if(weight<=2):\n",
    "    charges=1.50\n",
    "elif(weight>2 and weight<=6):\n",
    "    charges=3.00\n",
    "elif(weight>6 and weight<=10):\n",
    "    charges=4.00\n",
    "elif(weight>10):\n",
    "    charges=4.75\n",
    "print(\"Your shippig charges is: \",charges)"
   ]
  },
  {
   "cell_type": "code",
   "execution_count": null,
   "metadata": {},
   "outputs": [],
   "source": []
  }
 ],
 "metadata": {
  "kernelspec": {
   "display_name": "Python 3",
   "language": "python",
   "name": "python3"
  },
  "language_info": {
   "codemirror_mode": {
    "name": "ipython",
    "version": 3
   },
   "file_extension": ".py",
   "mimetype": "text/x-python",
   "name": "python",
   "nbconvert_exporter": "python",
   "pygments_lexer": "ipython3",
   "version": "3.7.6"
  }
 },
 "nbformat": 4,
 "nbformat_minor": 4
}
