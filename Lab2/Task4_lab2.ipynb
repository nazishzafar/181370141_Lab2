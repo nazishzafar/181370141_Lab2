{
 "cells": [
  {
   "cell_type": "markdown",
   "metadata": {},
   "source": [
    "7.4 Software Sales\n",
    "A software company sells a package that retails for $99. Quantity discounts are given according to\n",
    "the following table:\n",
    "Quantity Discount\n",
    "10–19 10%\n",
    "20–49 20%\n",
    "50–99 30%\n",
    "100 or more 40%\n",
    "Write a program that asks the user to enter the number of packages purchased. The program\n",
    "should then display the amount of the discount (if any) and the total amount of the purchase after\n",
    "the discount."
   ]
  },
  {
   "cell_type": "code",
   "execution_count": 4,
   "metadata": {},
   "outputs": [
    {
     "name": "stdout",
     "output_type": "stream",
     "text": [
      "Enter number of packages purchased: 35\n",
      "Amount after discount:  2772.0\n",
      "Discount amount:  693.0\n"
     ]
    }
   ],
   "source": [
    "packages=int(input(\"Enter number of packages purchased: \"))\n",
    "if(packages>=10 and packages<20):\n",
    "    discount=(99*packages)*(10/100)\n",
    "    total=(99*packages)-discount\n",
    "    print(\"Amount after discount: \",total)\n",
    "    print(\"Discount amount: \",discount)\n",
    "elif(packages>=20 and packages<50):\n",
    "    discount=(99*packages)*(20/100)\n",
    "    total=(99*packages)-discount\n",
    "    print(\"Amount after discount: \",total)\n",
    "    print(\"Discount amount: \",discount)\n",
    "elif(packages>=50 and packages<100):\n",
    "    discount=(99*packages)*(30/100)\n",
    "    total=(99*packages)-discount\n",
    "    print(\"Amount after discount: \",total)\n",
    "    print(\"Discount amount: \",discount)\n",
    "elif(packages>=100):\n",
    "    discount=(99*packages)*(40/100)\n",
    "    total=(99*packages)-discount\n",
    "    print(\"Amount after discount: \",total)\n",
    "    print(\"Discount amount: \",discount)"
   ]
  },
  {
   "cell_type": "code",
   "execution_count": null,
   "metadata": {},
   "outputs": [],
   "source": []
  }
 ],
 "metadata": {
  "kernelspec": {
   "display_name": "Python 3",
   "language": "python",
   "name": "python3"
  },
  "language_info": {
   "codemirror_mode": {
    "name": "ipython",
    "version": 3
   },
   "file_extension": ".py",
   "mimetype": "text/x-python",
   "name": "python",
   "nbconvert_exporter": "python",
   "pygments_lexer": "ipython3",
   "version": "3.7.6"
  }
 },
 "nbformat": 4,
 "nbformat_minor": 4
}
