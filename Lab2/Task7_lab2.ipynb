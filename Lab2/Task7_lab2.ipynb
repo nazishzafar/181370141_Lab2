{
 "cells": [
  {
   "cell_type": "markdown",
   "metadata": {},
   "source": [
    "8.1 Budget Analysis\n",
    "Write a program that asks the user to enter the amount that he or she has budgeted for a month.\n",
    "A loop should then prompt the user to enter each of his or her expenses for the month and keep\n",
    "a running total. When the loop finishes, the program should display the amount that the user is\n",
    "over or under budget."
   ]
  },
  {
   "cell_type": "code",
   "execution_count": 5,
   "metadata": {},
   "outputs": [
    {
     "name": "stdout",
     "output_type": "stream",
     "text": [
      "Enter amount you have to budgeted for a month: 357\n",
      "Enter yur expenses: 44\n",
      "Enter yur expenses:(-1 to exit) 34\n",
      "Enter yur expenses:(-1 to exit) 45\n",
      "Enter yur expenses:(-1 to exit) -1\n",
      "Your expenses are:  78\n",
      "You are under budget\n"
     ]
    }
   ],
   "source": [
    "budget=int(input(\"Enter amount you have to budgeted for a month: \"))\n",
    "expense=int(input(\"Enter yur expenses: \"))\n",
    "total=0\n",
    "while(expense!=-1):\n",
    "    expense=int(input(\"Enter yur expenses:(-1 to exit) \"))\n",
    "    total=total+expense\n",
    "print(\"Your expenses are: \",total)\n",
    "if(total>budget):\n",
    "    print(\"You are over budget\")\n",
    "elif(total<budget):\n",
    "    print(\"You are under budget\")\n"
   ]
  },
  {
   "cell_type": "code",
   "execution_count": null,
   "metadata": {},
   "outputs": [],
   "source": []
  }
 ],
 "metadata": {
  "kernelspec": {
   "display_name": "Python 3",
   "language": "python",
   "name": "python3"
  },
  "language_info": {
   "codemirror_mode": {
    "name": "ipython",
    "version": 3
   },
   "file_extension": ".py",
   "mimetype": "text/x-python",
   "name": "python",
   "nbconvert_exporter": "python",
   "pygments_lexer": "ipython3",
   "version": "3.7.6"
  }
 },
 "nbformat": 4,
 "nbformat_minor": 4
}
