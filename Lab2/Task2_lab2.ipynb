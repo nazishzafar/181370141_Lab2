{
 "cells": [
  {
   "cell_type": "markdown",
   "metadata": {},
   "source": [
    "7.2 Hot Dogs Cookout Calculator\n",
    "Assume that hot dogs come in packages of 10, and hot dog buns come in packages of 8. Write a\n",
    "program that calculates the number of packages of hot dogs and the number of packages of hot dog\n",
    "buns needed for a cookout, with the minimum amount of leftovers. The program should ask the\n",
    "user for the number of people attending the cookout and the number of hot dogs each person will\n",
    "be given. The program should display the following details: * The minimum number of packages\n",
    "of hot dogs required * The minimum number of packages of hot dog buns required * The number\n",
    "of hot dogs that will be left over * The number of hot dog buns that will be left over"
   ]
  },
  {
   "cell_type": "code",
   "execution_count": 5,
   "metadata": {},
   "outputs": [
    {
     "name": "stdout",
     "output_type": "stream",
     "text": [
      "Number of people attending the cookout: 34\n",
      "Number of hot dogs each person will be given: 2\n",
      "Hot dogs leftover:  6.8\n",
      "Minimum number of hot dogs packages:  68\n",
      "Left over buns:  1.0625\n",
      "Minimum package of bun:  8.5\n"
     ]
    }
   ],
   "source": [
    "people_num=int(input(\"Number of people attending the cookout: \"))\n",
    "dogs_num=int(input(\"Number of hot dogs each person will be given: \"))\n",
    "total_dogs=people_num*dogs_num\n",
    "leftover=(total_dogs)/10\n",
    "    \n",
    "print(\"Hot dogs leftover: \",leftover)\n",
    "print(\"Minimum number of hot dogs packages: \",total_dogs)\n",
    "buns=(people_num*dogs_num)/8\n",
    "leftover_buns=(buns)/8\n",
    "print(\"Left over buns: \",leftover_buns)\n",
    "print(\"Minimum package of bun: \",buns)"
   ]
  },
  {
   "cell_type": "code",
   "execution_count": null,
   "metadata": {},
   "outputs": [],
   "source": []
  }
 ],
 "metadata": {
  "kernelspec": {
   "display_name": "Python 3",
   "language": "python",
   "name": "python3"
  },
  "language_info": {
   "codemirror_mode": {
    "name": "ipython",
    "version": 3
   },
   "file_extension": ".py",
   "mimetype": "text/x-python",
   "name": "python",
   "nbconvert_exporter": "python",
   "pygments_lexer": "ipython3",
   "version": "3.7.6"
  }
 },
 "nbformat": 4,
 "nbformat_minor": 4
}
