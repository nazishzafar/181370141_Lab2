{
 "cells": [
  {
   "cell_type": "markdown",
   "metadata": {},
   "source": [
    "8.2 Average Rainfall\n",
    "Write a program that uses nested loops to collect data and calculate the average rainfall over a\n",
    "period of years. The program should first ask for the number of years. The outer loop will iterate\n",
    "once for each year. The inner loop will iterate twelve times, once for each month. Each iteration\n",
    "of the inner loop will ask the user for the inches of rainfall for that month. After all iterations, the\n",
    "program should display the number of months, the total inches of rainfall, and the average rainfall\n",
    "per month for the entire period."
   ]
  },
  {
   "cell_type": "code",
   "execution_count": 10,
   "metadata": {},
   "outputs": [
    {
     "name": "stdout",
     "output_type": "stream",
     "text": [
      "Enter number of years: 1\n",
      "Enter inches of rainfall for this month: 1\n",
      "Enter inches of rainfall for this month: 2\n",
      "Enter inches of rainfall for this month: 3\n",
      "Enter inches of rainfall for this month: 4\n",
      "Enter inches of rainfall for this month: 5\n",
      "Enter inches of rainfall for this month: 6\n",
      "Enter inches of rainfall for this month: 7\n",
      "Enter inches of rainfall for this month: 8\n",
      "Enter inches of rainfall for this month: 9\n",
      "Enter inches of rainfall for this month: 1\n",
      "Enter inches of rainfall for this month: 1\n",
      "Enter inches of rainfall for this month: 1\n",
      "Average rainfall is:  4.0\n",
      "Total rainfall is :  48.0\n",
      "Total number of months:  12\n"
     ]
    }
   ],
   "source": [
    "years=int(input(\"Enter number of years: \"))\n",
    "total,months=0,0\n",
    "for year in range (years):\n",
    "    for i in range (1,13):\n",
    "        inches=float(input(\"Enter inches of rainfall for this month: \"))\n",
    "        total=total+inches\n",
    "        months=i\n",
    "print(\"Average rainfall is: \",total/months)\n",
    "print(\"Total rainfall is : \",total)\n",
    "print(\"Total number of months: \",months)\n",
    "        "
   ]
  },
  {
   "cell_type": "markdown",
   "metadata": {},
   "source": []
  }
 ],
 "metadata": {
  "kernelspec": {
   "display_name": "Python 3",
   "language": "python",
   "name": "python3"
  },
  "language_info": {
   "codemirror_mode": {
    "name": "ipython",
    "version": 3
   },
   "file_extension": ".py",
   "mimetype": "text/x-python",
   "name": "python",
   "nbconvert_exporter": "python",
   "pygments_lexer": "ipython3",
   "version": "3.7.6"
  }
 },
 "nbformat": 4,
 "nbformat_minor": 4
}
